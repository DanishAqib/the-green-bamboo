{
 "cells": [
  {
   "cell_type": "code",
   "execution_count": 1,
   "metadata": {},
   "outputs": [
    {
     "data": {
      "text/plain": [
       "-1250261754"
      ]
     },
     "execution_count": 1,
     "metadata": {},
     "output_type": "execute_result"
    }
   ],
   "source": [
    "# To hash the password\n",
    "def hash_password(id, password):\n",
    "    combinedString = str(id) + password\n",
    "    hash = 0\n",
    "\n",
    "    for i in range(len(combinedString)):\n",
    "        char = ord(combinedString[i])\n",
    "        hash = (hash << 5) - hash + char\n",
    "        hash &= 0xFFFFFFFF  # Convert to 32-bit integer\n",
    "\n",
    "    if hash & (1 << 31):  # If the highest bit is set\n",
    "        hash -= 1 << 32  # Convert to a signed integer\n",
    "\n",
    "    return hash\n",
    "\n",
    "hash_password(\"lotusroot518\", \"kaihachoo\")"
   ]
  }
 ],
 "metadata": {
  "kernelspec": {
   "display_name": "Python 3",
   "language": "python",
   "name": "python3"
  },
  "language_info": {
   "codemirror_mode": {
    "name": "ipython",
    "version": 3
   },
   "file_extension": ".py",
   "mimetype": "text/x-python",
   "name": "python",
   "nbconvert_exporter": "python",
   "pygments_lexer": "ipython3",
   "version": "3.11.7"
  }
 },
 "nbformat": 4,
 "nbformat_minor": 2
}
