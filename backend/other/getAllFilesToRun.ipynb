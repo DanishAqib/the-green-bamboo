{
 "cells": [
  {
   "cell_type": "code",
   "execution_count": null,
   "metadata": {},
   "outputs": [],
   "source": [
    "import os\n",
    "import fnmatch\n",
    "\n",
    "directory = '/Applications/MAMP/htdocs/the-green-bamboo/backend'\n",
    "pattern = '*.py'\n",
    "\n",
    "all_py_files = []\n",
    "\n",
    "for root, dirs, files in os.walk(directory):\n",
    "    for basename in files:\n",
    "        if fnmatch.fnmatch(basename, pattern):\n",
    "            filename = os.path.join(root, basename)\n",
    "            if filename.endswith('.py'):\n",
    "                formatted_filename = filename.replace('/Applications/MAMP/htdocs/the-green-bamboo/backend/', 'python3 backend/')\n",
    "                print(f\"{formatted_filename} &\")\n",
    "\n",
    "print(\"npm run serve\")"
   ]
  }
 ],
 "metadata": {
  "language_info": {
   "name": "python"
  }
 },
 "nbformat": 4,
 "nbformat_minor": 2
}
