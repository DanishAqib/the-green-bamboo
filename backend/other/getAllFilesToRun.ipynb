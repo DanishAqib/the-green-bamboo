{
 "cells": [
  {
   "cell_type": "code",
   "execution_count": 2,
   "metadata": {},
   "outputs": [
    {
     "name": "stdout",
     "output_type": "stream",
     "text": [
      "python3 backend/editVenueProfile.py &\n",
      "python3 backend/createObservationTag.py &\n",
      "python3 backend/editObservationTag.py &\n",
      "python3 backend/addToList.py &\n",
      "python3 backend/deleteReview.py &\n",
      "python3 backend/editReview.py &\n",
      "python3 backend/createListing.py &\n",
      "python3 backend/getData.py &\n",
      "python3 backend/createReview.py &\n",
      "python3 backend/editListing.py &\n",
      "python3 backend/authcheck.py &\n",
      "python3 backend/editProfile.py &\n",
      "python3 backend/adminFunctions.py &\n",
      "python3 backend/createAccount.py &\n",
      "python3 backend/editProducerProfile.py &\n",
      "python3 backend/requestListing.py &\n",
      "python3 backend/editModRequests.py &\n",
      "npm run serve\n"
     ]
    }
   ],
   "source": [
    "import os\n",
    "import fnmatch\n",
    "\n",
    "directory = '../'\n",
    "files_to_ignore = ['../other/convertImages.py', '../data.py']\n",
    "pattern = '*.py'\n",
    "\n",
    "all_py_files = []\n",
    "\n",
    "for root, dirs, files in os.walk(directory):\n",
    "    for basename in files:\n",
    "        if fnmatch.fnmatch(basename, pattern):\n",
    "            filename = os.path.join(root, basename)\n",
    "            if filename.endswith('.py') and filename not in files_to_ignore:\n",
    "                formatted_filename = filename.replace('../', 'python3 backend/')\n",
    "                print(f\"{formatted_filename} &\")\n",
    "\n",
    "print(\"npm run serve\")"
   ]
  }
 ],
 "metadata": {
  "kernelspec": {
   "display_name": "Python 3",
   "language": "python",
   "name": "python3"
  },
  "language_info": {
   "codemirror_mode": {
    "name": "ipython",
    "version": 3
   },
   "file_extension": ".py",
   "mimetype": "text/x-python",
   "name": "python",
   "nbconvert_exporter": "python",
   "pygments_lexer": "ipython3",
   "version": "3.11.7"
  }
 },
 "nbformat": 4,
 "nbformat_minor": 2
}
